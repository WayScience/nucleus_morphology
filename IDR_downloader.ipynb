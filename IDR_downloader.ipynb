{
 "cells": [
  {
   "cell_type": "code",
   "execution_count": 19,
   "metadata": {},
   "outputs": [
    {
     "name": "stdout",
     "output_type": "stream",
     "text": [
      "Connected to IDR ...\n"
     ]
    }
   ],
   "source": [
    "from idr import connection\n",
    "import time\n",
    "import multiprocessing\n",
    "from itertools import repeat\n",
    "import os\n",
    "import shutil\n",
    "import pandas as pd\n",
    "\n",
    "conn = connection('idr.openmicroscopy.org', 'public', 'public') "
   ]
  },
  {
   "cell_type": "code",
   "execution_count": 20,
   "metadata": {},
   "outputs": [],
   "source": [
    "def download_screen(screen_num, path):\n",
    "    screen = conn.getObject(\"Screen\", 1101)\n",
    "    for plate in screen.listChildren():\n",
    "        download_plate(plate.getId(), path)\n",
    "\n",
    "def download_plate(plate_num, path):\n",
    "    plate = conn.getObject(\"Plate\", plate_num)\n",
    "    plate_name = plate.getName()\n",
    "    print(\"Downloading \" + plate_name)\n",
    "    \n",
    "    #make directory for the plate\n",
    "    os.makedirs(path + plate_name, exist_ok=True)\n",
    "    \n",
    "    #iterate through wells in plate, create well dir, save annotations/images for specific well\n",
    "    well_grid = plate.getWellGrid()\n",
    "    for row in range(len(well_grid)):\n",
    "        for col in range(len(well_grid[row])):\n",
    "            well_pos = well_grid[row][col].getWellPos()\n",
    "            print(\"Downloading well \" + well_pos)\n",
    "            well_dir = path + plate_name + \"/\" + well_pos + \"/\"\n",
    "            os.makedirs(well_dir)\n",
    "            save_annotations(well_grid[row][col], well_dir)\n",
    "            save_image(well_grid[row][col], well_dir)\n",
    "\n",
    "\n",
    "def save_annotations(well, path):\n",
    "    annotations_list = well.listAnnotations()\n",
    "    \n",
    "    #annotations are in bad format so have to recreate list before converting to pandas dataframe\n",
    "    new_annotations_list = []\n",
    "    for annotation in annotations_list:\n",
    "        for value in annotation.getValue():\n",
    "            new_annotations_list.append(value)\n",
    "    \n",
    "    pd.DataFrame(new_annotations_list).to_csv(path + \"annotations\")\n",
    "\n",
    "\n",
    "def save_image(well, path):\n",
    "    image = well.getImage()\n",
    "    #iterate through frames and save each one\n",
    "    for t in range(image.getSizeT()):\n",
    "        rendered_image = image.renderImage(0, t)\n",
    "        rendered_image.save(path + \"/frame_\" +str(t)+ \".png\")"
   ]
  },
  {
   "cell_type": "code",
   "execution_count": 22,
   "metadata": {},
   "outputs": [
    {
     "name": "stdout",
     "output_type": "stream",
     "text": [
      "Downloading LT0001_02\n",
      "Downloading well A1\n",
      "Downloading well A2\n"
     ]
    },
    {
     "ename": "KeyboardInterrupt",
     "evalue": "",
     "output_type": "error",
     "traceback": [
      "\u001b[0;31m---------------------------------------------------------------------------\u001b[0m",
      "\u001b[0;31mKeyboardInterrupt\u001b[0m                         Traceback (most recent call last)",
      "\u001b[1;32m/home/roshankern/Desktop/NucleusMorphology/phenotypic_profiling/IDR_downloader.ipynb Cell 3'\u001b[0m in \u001b[0;36m<cell line: 1>\u001b[0;34m()\u001b[0m\n\u001b[0;32m----> <a href='vscode-notebook-cell:/home/roshankern/Desktop/NucleusMorphology/phenotypic_profiling/IDR_downloader.ipynb#ch0000003?line=0'>1</a>\u001b[0m download_screen(\u001b[39m1101\u001b[39;49m, \u001b[39m\"\u001b[39;49m\u001b[39midr_downloads/\u001b[39;49m\u001b[39m\"\u001b[39;49m)\n",
      "\u001b[1;32m/home/roshankern/Desktop/NucleusMorphology/phenotypic_profiling/IDR_downloader.ipynb Cell 2'\u001b[0m in \u001b[0;36mdownload_screen\u001b[0;34m(screen_num, path)\u001b[0m\n\u001b[1;32m      <a href='vscode-notebook-cell:/home/roshankern/Desktop/NucleusMorphology/phenotypic_profiling/IDR_downloader.ipynb#ch0000002?line=1'>2</a>\u001b[0m screen \u001b[39m=\u001b[39m conn\u001b[39m.\u001b[39mgetObject(\u001b[39m\"\u001b[39m\u001b[39mScreen\u001b[39m\u001b[39m\"\u001b[39m, \u001b[39m1101\u001b[39m)\n\u001b[1;32m      <a href='vscode-notebook-cell:/home/roshankern/Desktop/NucleusMorphology/phenotypic_profiling/IDR_downloader.ipynb#ch0000002?line=2'>3</a>\u001b[0m \u001b[39mfor\u001b[39;00m plate \u001b[39min\u001b[39;00m screen\u001b[39m.\u001b[39mlistChildren():\n\u001b[0;32m----> <a href='vscode-notebook-cell:/home/roshankern/Desktop/NucleusMorphology/phenotypic_profiling/IDR_downloader.ipynb#ch0000002?line=3'>4</a>\u001b[0m     download_plate(plate\u001b[39m.\u001b[39;49mgetId(), path)\n",
      "\u001b[1;32m/home/roshankern/Desktop/NucleusMorphology/phenotypic_profiling/IDR_downloader.ipynb Cell 2'\u001b[0m in \u001b[0;36mdownload_plate\u001b[0;34m(plate_num, path)\u001b[0m\n\u001b[1;32m     <a href='vscode-notebook-cell:/home/roshankern/Desktop/NucleusMorphology/phenotypic_profiling/IDR_downloader.ipynb#ch0000002?line=20'>21</a>\u001b[0m os\u001b[39m.\u001b[39mmakedirs(well_dir)\n\u001b[1;32m     <a href='vscode-notebook-cell:/home/roshankern/Desktop/NucleusMorphology/phenotypic_profiling/IDR_downloader.ipynb#ch0000002?line=21'>22</a>\u001b[0m save_annotations(well_grid[row][col], well_dir)\n\u001b[0;32m---> <a href='vscode-notebook-cell:/home/roshankern/Desktop/NucleusMorphology/phenotypic_profiling/IDR_downloader.ipynb#ch0000002?line=22'>23</a>\u001b[0m save_image(well_grid[row][col], well_dir)\n",
      "\u001b[1;32m/home/roshankern/Desktop/NucleusMorphology/phenotypic_profiling/IDR_downloader.ipynb Cell 2'\u001b[0m in \u001b[0;36msave_image\u001b[0;34m(well, path)\u001b[0m\n\u001b[1;32m     <a href='vscode-notebook-cell:/home/roshankern/Desktop/NucleusMorphology/phenotypic_profiling/IDR_downloader.ipynb#ch0000002?line=39'>40</a>\u001b[0m \u001b[39m#iterate through frames and save each one\u001b[39;00m\n\u001b[1;32m     <a href='vscode-notebook-cell:/home/roshankern/Desktop/NucleusMorphology/phenotypic_profiling/IDR_downloader.ipynb#ch0000002?line=40'>41</a>\u001b[0m \u001b[39mfor\u001b[39;00m t \u001b[39min\u001b[39;00m \u001b[39mrange\u001b[39m(image\u001b[39m.\u001b[39mgetSizeT()):\n\u001b[0;32m---> <a href='vscode-notebook-cell:/home/roshankern/Desktop/NucleusMorphology/phenotypic_profiling/IDR_downloader.ipynb#ch0000002?line=41'>42</a>\u001b[0m     rendered_image \u001b[39m=\u001b[39m image\u001b[39m.\u001b[39;49mrenderImage(\u001b[39m0\u001b[39;49m, t)\n\u001b[1;32m     <a href='vscode-notebook-cell:/home/roshankern/Desktop/NucleusMorphology/phenotypic_profiling/IDR_downloader.ipynb#ch0000002?line=42'>43</a>\u001b[0m     rendered_image\u001b[39m.\u001b[39msave(path \u001b[39m+\u001b[39m \u001b[39m\"\u001b[39m\u001b[39m/frame_\u001b[39m\u001b[39m\"\u001b[39m \u001b[39m+\u001b[39m\u001b[39mstr\u001b[39m(t)\u001b[39m+\u001b[39m \u001b[39m\"\u001b[39m\u001b[39m.png\u001b[39m\u001b[39m\"\u001b[39m)\n",
      "File \u001b[0;32m~/anaconda3/envs/phenotypic_profiling/lib/python3.9/site-packages/omero/gateway/__init__.py:9660\u001b[0m, in \u001b[0;36m_ImageWrapper.renderImage\u001b[0;34m(self, z, t, compression)\u001b[0m\n\u001b[1;32m   <a href='file:///home/roshankern/anaconda3/envs/phenotypic_profiling/lib/python3.9/site-packages/omero/gateway/__init__.py?line=9647'>9648</a>\u001b[0m \u001b[39mdef\u001b[39;00m \u001b[39mrenderImage\u001b[39m(\u001b[39mself\u001b[39m, z, t, compression\u001b[39m=\u001b[39m\u001b[39m0.9\u001b[39m):\n\u001b[1;32m   <a href='file:///home/roshankern/anaconda3/envs/phenotypic_profiling/lib/python3.9/site-packages/omero/gateway/__init__.py?line=9648'>9649</a>\u001b[0m     \u001b[39m\"\"\"\u001b[39;00m\n\u001b[1;32m   <a href='file:///home/roshankern/anaconda3/envs/phenotypic_profiling/lib/python3.9/site-packages/omero/gateway/__init__.py?line=9649'>9650</a>\u001b[0m \u001b[39m    Render the Image, (projected) and compressed.\u001b[39;00m\n\u001b[1;32m   <a href='file:///home/roshankern/anaconda3/envs/phenotypic_profiling/lib/python3.9/site-packages/omero/gateway/__init__.py?line=9650'>9651</a>\u001b[0m \u001b[39m    For projection, call :meth:`setProjection` before renderImage.\u001b[39;00m\n\u001b[0;32m   (...)\u001b[0m\n\u001b[1;32m   <a href='file:///home/roshankern/anaconda3/envs/phenotypic_profiling/lib/python3.9/site-packages/omero/gateway/__init__.py?line=9656'>9657</a>\u001b[0m \u001b[39m    :rtype:         PIL Image.\u001b[39;00m\n\u001b[1;32m   <a href='file:///home/roshankern/anaconda3/envs/phenotypic_profiling/lib/python3.9/site-packages/omero/gateway/__init__.py?line=9657'>9658</a>\u001b[0m \u001b[39m    \"\"\"\u001b[39;00m\n\u001b[0;32m-> <a href='file:///home/roshankern/anaconda3/envs/phenotypic_profiling/lib/python3.9/site-packages/omero/gateway/__init__.py?line=9659'>9660</a>\u001b[0m     rv \u001b[39m=\u001b[39m \u001b[39mself\u001b[39;49m\u001b[39m.\u001b[39;49mrenderJpeg(z, t, compression)\n\u001b[1;32m   <a href='file:///home/roshankern/anaconda3/envs/phenotypic_profiling/lib/python3.9/site-packages/omero/gateway/__init__.py?line=9660'>9661</a>\u001b[0m     \u001b[39mif\u001b[39;00m rv \u001b[39mis\u001b[39;00m \u001b[39mnot\u001b[39;00m \u001b[39mNone\u001b[39;00m:\n\u001b[1;32m   <a href='file:///home/roshankern/anaconda3/envs/phenotypic_profiling/lib/python3.9/site-packages/omero/gateway/__init__.py?line=9661'>9662</a>\u001b[0m         i \u001b[39m=\u001b[39m BytesIO(rv)\n",
      "File \u001b[0;32m~/anaconda3/envs/phenotypic_profiling/lib/python3.9/site-packages/omero/gateway/__init__.py:7950\u001b[0m, in \u001b[0;36massert_re.__call__.<locals>.wrapped\u001b[0;34m(self, *args, **kwargs)\u001b[0m\n\u001b[1;32m   <a href='file:///home/roshankern/anaconda3/envs/phenotypic_profiling/lib/python3.9/site-packages/omero/gateway/__init__.py?line=7946'>7947</a>\u001b[0m     logger\u001b[39m.\u001b[39mdebug(\u001b[39m'\u001b[39m\u001b[39mIgnoring exception thrown during preparation \u001b[39m\u001b[39m'\u001b[39m\n\u001b[1;32m   <a href='file:///home/roshankern/anaconda3/envs/phenotypic_profiling/lib/python3.9/site-packages/omero/gateway/__init__.py?line=7947'>7948</a>\u001b[0m                  \u001b[39m'\u001b[39m\u001b[39mof rendering engine for \u001b[39m\u001b[39m%r\u001b[39;00m\u001b[39m!\u001b[39m\u001b[39m'\u001b[39m \u001b[39m%\u001b[39m f, exc_info\u001b[39m=\u001b[39m\u001b[39mTrue\u001b[39;00m)\n\u001b[1;32m   <a href='file:///home/roshankern/anaconda3/envs/phenotypic_profiling/lib/python3.9/site-packages/omero/gateway/__init__.py?line=7948'>7949</a>\u001b[0m     \u001b[39mpass\u001b[39;00m\n\u001b[0;32m-> <a href='file:///home/roshankern/anaconda3/envs/phenotypic_profiling/lib/python3.9/site-packages/omero/gateway/__init__.py?line=7949'>7950</a>\u001b[0m \u001b[39mreturn\u001b[39;00m f(\u001b[39mself\u001b[39;49m, \u001b[39m*\u001b[39;49margs, \u001b[39m*\u001b[39;49m\u001b[39m*\u001b[39;49mkwargs)\n",
      "File \u001b[0;32m~/anaconda3/envs/phenotypic_profiling/lib/python3.9/site-packages/omero/gateway/__init__.py:9400\u001b[0m, in \u001b[0;36m_ImageWrapper.renderJpeg\u001b[0;34m(self, z, t, compression)\u001b[0m\n\u001b[1;32m   <a href='file:///home/roshankern/anaconda3/envs/phenotypic_profiling/lib/python3.9/site-packages/omero/gateway/__init__.py?line=9397'>9398</a>\u001b[0m \u001b[39mif\u001b[39;00m compression \u001b[39mis\u001b[39;00m \u001b[39mnot\u001b[39;00m \u001b[39mNone\u001b[39;00m:\n\u001b[1;32m   <a href='file:///home/roshankern/anaconda3/envs/phenotypic_profiling/lib/python3.9/site-packages/omero/gateway/__init__.py?line=9398'>9399</a>\u001b[0m     \u001b[39mtry\u001b[39;00m:\n\u001b[0;32m-> <a href='file:///home/roshankern/anaconda3/envs/phenotypic_profiling/lib/python3.9/site-packages/omero/gateway/__init__.py?line=9399'>9400</a>\u001b[0m         \u001b[39mself\u001b[39;49m\u001b[39m.\u001b[39;49m_re\u001b[39m.\u001b[39;49msetCompressionLevel(\u001b[39mfloat\u001b[39;49m(compression))\n\u001b[1;32m   <a href='file:///home/roshankern/anaconda3/envs/phenotypic_profiling/lib/python3.9/site-packages/omero/gateway/__init__.py?line=9400'>9401</a>\u001b[0m     \u001b[39mexcept\u001b[39;00m omero\u001b[39m.\u001b[39mSecurityViolation:  \u001b[39m# pragma: no cover\u001b[39;00m\n\u001b[1;32m   <a href='file:///home/roshankern/anaconda3/envs/phenotypic_profiling/lib/python3.9/site-packages/omero/gateway/__init__.py?line=9401'>9402</a>\u001b[0m         \u001b[39mself\u001b[39m\u001b[39m.\u001b[39m_obj\u001b[39m.\u001b[39mclearPixels()\n",
      "File \u001b[0;32m~/anaconda3/envs/phenotypic_profiling/lib/python3.9/site-packages/omero/gateway/__init__.py:4853\u001b[0m, in \u001b[0;36mOmeroGatewaySafeCallWrapper.__call__\u001b[0;34m(self, *args, **kwargs)\u001b[0m\n\u001b[1;32m   <a href='file:///home/roshankern/anaconda3/envs/phenotypic_profiling/lib/python3.9/site-packages/omero/gateway/__init__.py?line=4850'>4851</a>\u001b[0m \u001b[39mdef\u001b[39;00m \u001b[39m__call__\u001b[39m(\u001b[39mself\u001b[39m, \u001b[39m*\u001b[39margs, \u001b[39m*\u001b[39m\u001b[39m*\u001b[39mkwargs):\n\u001b[1;32m   <a href='file:///home/roshankern/anaconda3/envs/phenotypic_profiling/lib/python3.9/site-packages/omero/gateway/__init__.py?line=4851'>4852</a>\u001b[0m     \u001b[39mtry\u001b[39;00m:\n\u001b[0;32m-> <a href='file:///home/roshankern/anaconda3/envs/phenotypic_profiling/lib/python3.9/site-packages/omero/gateway/__init__.py?line=4852'>4853</a>\u001b[0m         \u001b[39mreturn\u001b[39;00m \u001b[39mself\u001b[39;49m\u001b[39m.\u001b[39;49mf(\u001b[39m*\u001b[39;49margs, \u001b[39m*\u001b[39;49m\u001b[39m*\u001b[39;49mkwargs)\n\u001b[1;32m   <a href='file:///home/roshankern/anaconda3/envs/phenotypic_profiling/lib/python3.9/site-packages/omero/gateway/__init__.py?line=4853'>4854</a>\u001b[0m     \u001b[39mexcept\u001b[39;00m \u001b[39mException\u001b[39;00m \u001b[39mas\u001b[39;00m e:\n\u001b[1;32m   <a href='file:///home/roshankern/anaconda3/envs/phenotypic_profiling/lib/python3.9/site-packages/omero/gateway/__init__.py?line=4854'>4855</a>\u001b[0m         \u001b[39mself\u001b[39m\u001b[39m.\u001b[39mdebug(e\u001b[39m.\u001b[39m\u001b[39m__class__\u001b[39m\u001b[39m.\u001b[39m\u001b[39m__name__\u001b[39m, args, kwargs)\n",
      "File \u001b[0;32m~/anaconda3/envs/phenotypic_profiling/lib/python3.9/site-packages/omero_api_RenderingEngine_ice.py:2359\u001b[0m, in \u001b[0;36mRenderingEnginePrx.setCompressionLevel\u001b[0;34m(self, percentage, _ctx)\u001b[0m\n\u001b[1;32m   <a href='file:///home/roshankern/anaconda3/envs/phenotypic_profiling/lib/python3.9/site-packages/omero_api_RenderingEngine_ice.py?line=2357'>2358</a>\u001b[0m \u001b[39mdef\u001b[39;00m \u001b[39msetCompressionLevel\u001b[39m(\u001b[39mself\u001b[39m, percentage, _ctx\u001b[39m=\u001b[39m\u001b[39mNone\u001b[39;00m):\n\u001b[0;32m-> <a href='file:///home/roshankern/anaconda3/envs/phenotypic_profiling/lib/python3.9/site-packages/omero_api_RenderingEngine_ice.py?line=2358'>2359</a>\u001b[0m     \u001b[39mreturn\u001b[39;00m _M_omero\u001b[39m.\u001b[39;49mapi\u001b[39m.\u001b[39;49mRenderingEngine\u001b[39m.\u001b[39;49m_op_setCompressionLevel\u001b[39m.\u001b[39;49minvoke(\u001b[39mself\u001b[39;49m, ((percentage, ), _ctx))\n",
      "\u001b[0;31mKeyboardInterrupt\u001b[0m: "
     ]
    }
   ],
   "source": [
    "download_screen(1101, \"idr_downloads/\")\n",
    "\n",
    "\n",
    "# download_plate(3451, \"idr_downloads/\")\n",
    "\n",
    "# pool = multiprocessing.Pool(1)\n",
    "# pool.map(save_image, range(image.getSizeT()))"
   ]
  },
  {
   "cell_type": "code",
   "execution_count": null,
   "metadata": {},
   "outputs": [],
   "source": []
  }
 ],
 "metadata": {
  "interpreter": {
   "hash": "f9df586d1764dbc68785000a153dad1832127ac564b5e2e4c94e83fc43160b30"
  },
  "kernelspec": {
   "display_name": "Python 3.9.12 ('phenotypic_profiling')",
   "language": "python",
   "name": "python3"
  },
  "language_info": {
   "codemirror_mode": {
    "name": "ipython",
    "version": 3
   },
   "file_extension": ".py",
   "mimetype": "text/x-python",
   "name": "python",
   "nbconvert_exporter": "python",
   "pygments_lexer": "ipython3",
   "version": "3.9.12"
  },
  "orig_nbformat": 4
 },
 "nbformat": 4,
 "nbformat_minor": 2
}
